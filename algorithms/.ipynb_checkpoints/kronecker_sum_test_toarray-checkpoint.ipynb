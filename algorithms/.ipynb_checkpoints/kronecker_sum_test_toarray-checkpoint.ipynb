{
 "cells": [
  {
   "cell_type": "code",
   "execution_count": 1,
   "id": "7c9d6364",
   "metadata": {},
   "outputs": [],
   "source": [
    "#!/usr/bin/env python3\n",
    "# -*- coding: utf-8 -*-\n",
    "\n",
    "import numpy as np\n",
    "import time\n",
    "import os\n",
    "\n",
    "from numpy import linalg as la\n",
    "\n",
    "#from scipy.sparse.linalg import spsolve_triangular, spsolve\n",
    "#from scipy.sparse.linalg import \n",
    "#from scipy.sparse import identity, diags, csr_matrix, bmat, tril, triu\n",
    "from scipy.sparse import kron as sp_kron # TODO remove\n",
    "\n",
    "\n",
    "from tabulate import tabulate\n",
    "\n",
    "from examples.matrices_3d import curl_matrix\n",
    "from examples.asp_1d import knot_vector\n",
    "\n",
    "from kron_spsolve import Gauss_Seidel\n",
    "\n",
    "sprint = lambda x: '{:.2e}'.format(x)"
   ]
  },
  {
   "cell_type": "code",
   "execution_count": 2,
   "id": "4f4bc809",
   "metadata": {},
   "outputs": [],
   "source": [
    "#++++++++++++++++++++++++++++++++++++++++++++++++++++++++++++++++++++++++++++++\n",
    "#                                   Data\n",
    "#++++++++++++++++++++++++++++++++++++++++++++++++++++++++++++++++++++++++++++++\n",
    "\n",
    "ps            = (1,)\n",
    "ks            = (3,)\n",
    "tau           = 10.**4\n",
    "problems      = ['curl']\n",
    "m             = 1"
   ]
  },
  {
   "cell_type": "code",
   "execution_count": 3,
   "id": "4d71325a",
   "metadata": {},
   "outputs": [],
   "source": [
    "#++++++++++++++++++++++++++++++++++++++++++++++++++++++++++++++++++++++++++++++\n",
    "#                    The main function\n",
    "#++++++++++++++++++++++++++++++++++++++++++++++++++++++++++++++++++++++++++++++\n",
    "\n",
    "def main(k, p, m, problem):\n",
    "    print('============pb={problem}, m={m}, p = {p}, k = {k}============'\n",
    "          .format(problem= problem, m=m, p=p,k=k))\n",
    "    \n",
    "    tb = time.time()\n",
    "    \n",
    "    n  = 2**k \n",
    "    T1 = knot_vector(n, p)\n",
    "    T2 = knot_vector(n, p)\n",
    "    T3 = knot_vector(n, p)\n",
    "    T  = (T1,T2,T3)\n",
    "    \n",
    "    if  problem == 'curl':\n",
    "        matrices, confficients = curl_matrix(T         = T, \n",
    "                                             p         = (p, p, p), \n",
    "                                             tau       = tau,\n",
    "                                             normalize = True, \n",
    "                                             form      = 'csr')\n",
    "    else : \n",
    "        \"TODO\"\n",
    "    \n",
    "    \n",
    "    A11 = matrices[0] \n",
    "    A12 = matrices[1] \n",
    "    A13 = matrices[2] \n",
    "    A21 = matrices[3] \n",
    "    A22 = matrices[4] \n",
    "    A23 = matrices[5] \n",
    "    A31 = matrices[6] \n",
    "    A32 = matrices[7] \n",
    "    A33 = matrices[8] \n",
    "    \n",
    "    A = [A11, A12, A13,\n",
    "         A21, A22, A23,\n",
    "         A31, A32, A33]\n",
    "    \n",
    "    \n",
    "    n1 = A11[0].shape[0]*A11[1].shape[0]*A11[2].shape[0]\n",
    "    n2 = A22[0].shape[0]*A22[1].shape[0]*A22[2].shape[0]\n",
    "    n3 = A33[0].shape[0]*A33[1].shape[0]*A33[2].shape[0]\n",
    "        \n",
    "    b = np.random.random(n1+n2+n3)\n",
    "    \n",
    "    x  = Gauss_Seidel(A, confficients, b, None, m)"
   ]
  },
  {
   "cell_type": "code",
   "execution_count": null,
   "id": "38708d54",
   "metadata": {},
   "outputs": [],
   "source": [
    "#++++++++++++++++++++++++++++++++++++++++++++++++++++++++++++++++++++++++++++++\n",
    "#                               Run tests\n",
    "#++++++++++++++++++++++++++++++++++++++++++++++++++++++++++++++++++++++++++++++\n",
    "%load_ext memory_profiler\n",
    "for k in ks:\n",
    "    for p in ps:\n",
    "        %memit main(k, p, m, problem)"
   ]
  }
 ],
 "metadata": {
  "kernelspec": {
   "display_name": "Python 3 (ipykernel)",
   "language": "python",
   "name": "python3"
  },
  "language_info": {
   "codemirror_mode": {
    "name": "ipython",
    "version": 3
   },
   "file_extension": ".py",
   "mimetype": "text/x-python",
   "name": "python",
   "nbconvert_exporter": "python",
   "pygments_lexer": "ipython3",
   "version": "3.9.7"
  }
 },
 "nbformat": 4,
 "nbformat_minor": 5
}
