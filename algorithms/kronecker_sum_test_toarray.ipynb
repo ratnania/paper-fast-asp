{
 "cells": [
  {
   "cell_type": "code",
   "execution_count": 1,
   "id": "7c9d6364",
   "metadata": {},
   "outputs": [],
   "source": [
    "#!/usr/bin/env python3\n",
    "# -*- coding: utf-8 -*-\n",
    "\n",
    "import numpy as np\n",
    "import time\n",
    "import os\n",
    "\n",
    "from numpy import linalg as la\n",
    "\n",
    "#from scipy.sparse.linalg import spsolve_triangular, spsolve\n",
    "#from scipy.sparse.linalg import \n",
    "#from scipy.sparse import identity, diags, csr_matrix, bmat, tril, triu\n",
    "from scipy.sparse import kron as sp_kron # TODO remove\n",
    "from scipy.sparse.linalg import spsolve_triangular\n",
    "\n",
    "\n",
    "from tabulate import tabulate\n",
    "\n",
    "from examples.matrices_3d import curl_matrix_toarray\n",
    "from examples.asp_1d import knot_vector\n",
    "\n",
    "from utulities import Gauss_Seidel\n",
    "\n",
    "sprint = lambda x: '{:.2e}'.format(x)"
   ]
  },
  {
   "cell_type": "code",
   "execution_count": 23,
   "id": "4f4bc809",
   "metadata": {},
   "outputs": [],
   "source": [
    "#++++++++++++++++++++++++++++++++++++++++++++++++++++++++++++++++++++++++++++++\n",
    "#                                   Data\n",
    "#++++++++++++++++++++++++++++++++++++++++++++++++++++++++++++++++++++++++++++++\n",
    "\n",
    "ps            = (1, 2, 3)\n",
    "ks            = (3, 4, 5, 6)\n",
    "tau           = 10.**4\n",
    "problem      = 'curl'\n",
    "m             = 1"
   ]
  },
  {
   "cell_type": "code",
   "execution_count": 24,
   "id": "52f8ae14",
   "metadata": {},
   "outputs": [],
   "source": [
    "#++++++++++++++++++++++++++++++++++++++++++++++++++++++++++++++++++++++++++++++\n",
    "#                    The main function\n",
    "#++++++++++++++++++++++++++++++++++++++++++++++++++++++++++++++++++++++++++++++\n",
    "\n",
    "def main(k, p, m, problem):\n",
    "    print('============pb={problem}, m={m}, p = {p}, k = {k}============'\n",
    "          .format(problem= problem, m=m, p=p,k=k))\n",
    "    \n",
    "    n  = 2**k \n",
    "    T1 = knot_vector(n, p)\n",
    "    T2 = knot_vector(n, p)\n",
    "    T3 = knot_vector(n, p)\n",
    "    T  = (T1,T2,T3)\n",
    "    \n",
    "    if  problem == 'curl':\n",
    "        A = curl_matrix_toarray(T         = T, \n",
    "                                p         = (p, p, p), \n",
    "                                tau       = tau,\n",
    "                                normalize = True, \n",
    "                                form      = 'csr')\n",
    "    else : \n",
    "        \"TODO\"\n",
    "    N = A.shape[1]\n",
    "    b = np.random.random(N)\n",
    "    \n",
    "    x  = Gauss_Seidel(A                 = A, \n",
    "                      b                 = b, \n",
    "                      kind              = 'symmetric', \n",
    "                      x0                = None, \n",
    "                      iterations_number = m, \n",
    "                      spsolve           = spsolve_triangular)"
   ]
  },
  {
   "cell_type": "code",
   "execution_count": null,
   "id": "7c40c83a",
   "metadata": {},
   "outputs": [],
   "source": [
    "#++++++++++++++++++++++++++++++++++++++++++++++++++++++++++++++++++++++++++++++\n",
    "#                               Run tests\n",
    "#++++++++++++++++++++++++++++++++++++++++++++++++++++++++++++++++++++++++++++++\n",
    "%load_ext memory_profiler\n",
    "for k in ks:\n",
    "    for p in ps:\n",
    "        %memit main(k, p, m, problem)"
   ]
  },
  {
   "cell_type": "code",
   "execution_count": null,
   "id": "eccb2b3e",
   "metadata": {},
   "outputs": [],
   "source": []
  }
 ],
 "metadata": {
  "kernelspec": {
   "display_name": "Python 3 (ipykernel)",
   "language": "python",
   "name": "python3"
  },
  "language_info": {
   "codemirror_mode": {
    "name": "ipython",
    "version": 3
   },
   "file_extension": ".py",
   "mimetype": "text/x-python",
   "name": "python",
   "nbconvert_exporter": "python",
   "pygments_lexer": "ipython3",
   "version": "3.9.7"
  }
 },
 "nbformat": 4,
 "nbformat_minor": 5
}
